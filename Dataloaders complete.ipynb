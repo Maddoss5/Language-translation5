{
 "cells": [
  {
   "cell_type": "code",
   "execution_count": 29,
   "id": "fd548961-cde7-42c2-bd94-218e782501c6",
   "metadata": {},
   "outputs": [],
   "source": [
    "import json\n",
    "from transformers import BertTokenizer\n",
    "import torch\n",
    "from transformers import AutoModel, AutoTokenizer\n",
    "from transformers import BertTokenizer\n",
    "import torch.nn as nn\n",
    "import torch.utils as utils\n",
    "from torch.nn.utils.rnn import pad_sequence\n",
    "from torch.utils.data import Dataset, DataLoader"
   ]
  },
  {
   "cell_type": "code",
   "execution_count": 2,
   "id": "3052504d-5151-4174-b090-bf1105697b6f",
   "metadata": {},
   "outputs": [],
   "source": [
    "f=open(\"test.json\",\"r\",encoding=\"utf-8\")"
   ]
  },
  {
   "cell_type": "code",
   "execution_count": 3,
   "id": "f8097871-3421-477b-b6d6-601978105e48",
   "metadata": {},
   "outputs": [],
   "source": [
    "data=json.load(f)"
   ]
  },
  {
   "cell_type": "code",
   "execution_count": 4,
   "id": "e9eee845-b27b-4014-be1f-e5a1a7faa805",
   "metadata": {
    "scrolled": true
   },
   "outputs": [
    {
     "data": {
      "text/plain": [
       "{'id': '190315_E001_13',\n",
       " 'tag': 'meeting',\n",
       " 'title': 'Meeting: Market update meeting',\n",
       " 'original_language': 'en',\n",
       " 'conversation': [{'no': 1,\n",
       "   'en_speaker': 'Mr. John Smith',\n",
       "   'ja_speaker': 'ジョン スミスさん',\n",
       "   'en_sentence': 'How is it going, Wayne?',\n",
       "   'ja_sentence': 'ウェイン、調子はどうです？'},\n",
       "  {'no': 2,\n",
       "   'en_speaker': 'Mr. Wayne Willis',\n",
       "   'ja_speaker': 'ウェイン ウィリスさん',\n",
       "   'en_sentence': \"I'm not too bad.\",\n",
       "   'ja_sentence': 'まあまあです。'},\n",
       "  {'no': 3,\n",
       "   'en_speaker': 'Mr. John Smith',\n",
       "   'ja_speaker': 'ジョン スミスさん',\n",
       "   'en_sentence': 'Thank you very much for coming out today.',\n",
       "   'ja_sentence': '今日はご足労ありがとう。'},\n",
       "  {'no': 4,\n",
       "   'en_speaker': 'Mr. John Smith',\n",
       "   'ja_speaker': 'ジョン スミスさん',\n",
       "   'en_sentence': \"How's business lately?\",\n",
       "   'ja_sentence': '景気はどうです？'},\n",
       "  {'no': 5,\n",
       "   'en_speaker': 'Mr. Wayne Willis',\n",
       "   'ja_speaker': 'ウェイン ウィリスさん',\n",
       "   'en_sentence': \"It's been good.\",\n",
       "   'ja_sentence': 'おかげさまで、順調です。'},\n",
       "  {'no': 6,\n",
       "   'en_speaker': 'Mr. Wayne Willis',\n",
       "   'ja_speaker': 'ウェイン ウィリスさん',\n",
       "   'en_sentence': \"We recently commissioned a new facility so I've been busy managing that.\",\n",
       "   'ja_sentence': '最近、新しい施設が稼働開始しまして、その管理で忙しくて。'},\n",
       "  {'no': 7,\n",
       "   'en_speaker': 'Mr. John Smith',\n",
       "   'ja_speaker': 'ジョン スミスさん',\n",
       "   'en_sentence': 'I read about that on your company website.',\n",
       "   'ja_sentence': 'ああ、それ、御社のサイトで読みましたよ。'},\n",
       "  {'no': 8,\n",
       "   'en_speaker': 'Mr. John Smith',\n",
       "   'ja_speaker': 'ジョン スミスさん',\n",
       "   'en_sentence': 'Congratulations.',\n",
       "   'ja_sentence': 'おめでとうございます。'},\n",
       "  {'no': 9,\n",
       "   'en_speaker': 'Mr. Wayne Willis',\n",
       "   'ja_speaker': 'ウェイン ウィリスさん',\n",
       "   'en_sentence': 'Thank you.',\n",
       "   'ja_sentence': 'どうも。'},\n",
       "  {'no': 10,\n",
       "   'en_speaker': 'Mr. Wayne Willis',\n",
       "   'ja_speaker': 'ウェイン ウィリスさん',\n",
       "   'en_sentence': 'The Japanese market has been very interested in our product.',\n",
       "   'ja_sentence': '日本市場が当社製品に興味をもっているようです。'},\n",
       "  {'no': 11,\n",
       "   'en_speaker': 'Mr. Wayne Willis',\n",
       "   'ja_speaker': 'ウェイン ウィリスさん',\n",
       "   'en_sentence': 'So having this new facility should satisfy their demand for the next couple of years.',\n",
       "   'ja_sentence': '新施設のおかげで、今後数年間の需要は賄えるかと思います。'},\n",
       "  {'no': 12,\n",
       "   'en_speaker': 'Mr. John Smith',\n",
       "   'ja_speaker': 'ジョン スミスさん',\n",
       "   'en_sentence': 'The Japanese market is trending upwards lately.',\n",
       "   'ja_sentence': '日本市場は最近上向きだね。'},\n",
       "  {'no': 13,\n",
       "   'en_speaker': 'Mr. John Smith',\n",
       "   'ja_speaker': 'ジョン スミスさん',\n",
       "   'en_sentence': 'I was in Japan last month and talked to a couple of potential customers.',\n",
       "   'ja_sentence': '先月日本に出張して、見込みのありそうな数社とミーティングしてきました。'},\n",
       "  {'no': 14,\n",
       "   'en_speaker': 'Mr. John Smith',\n",
       "   'ja_speaker': 'ジョン スミスさん',\n",
       "   'en_sentence': 'They all told me that they are looking for a reliable and consistent supply.',\n",
       "   'ja_sentence': '全社、声を揃えて、信頼できて一貫性のある供給を望んでいましたね。'},\n",
       "  {'no': 15,\n",
       "   'en_speaker': 'Mr. Wayne Willis',\n",
       "   'ja_speaker': 'ウェイン ウィリスさん',\n",
       "   'en_sentence': 'Well, we are well positioned then.',\n",
       "   'ja_sentence': 'では、当社はいい状況にあるってわけですね。'},\n",
       "  {'no': 16,\n",
       "   'en_speaker': 'Mr. Wayne Willis',\n",
       "   'ja_speaker': 'ウェイン ウィリスさん',\n",
       "   'en_sentence': 'We have 6 facilities with over 1 million ton capacity.',\n",
       "   'ja_sentence': '出力百万トン以上の工場が6件ありますし。'},\n",
       "  {'no': 17,\n",
       "   'en_speaker': 'Mr. John Smith',\n",
       "   'ja_speaker': 'ジョン スミスさん',\n",
       "   'en_sentence': 'You also operate your own terminal.',\n",
       "   'ja_sentence': '端末も独自に管理されてますしね。'},\n",
       "  {'no': 18,\n",
       "   'en_speaker': 'Mr. Wayne Willis',\n",
       "   'ja_speaker': 'ウェイン ウィリスさん',\n",
       "   'en_sentence': 'Yes, so we can control the ship loading and schedule.',\n",
       "   'ja_sentence': 'そう、出荷量やスケジュールも管理できます。'},\n",
       "  {'no': 19,\n",
       "   'en_speaker': 'Mr. Wayne Willis',\n",
       "   'ja_speaker': 'ウェイン ウィリスさん',\n",
       "   'en_sentence': 'Having control over the supply chain is definitely helpful.',\n",
       "   'ja_sentence': 'サプライチェーンを管理できるのはとても助かります。'},\n",
       "  {'no': 20,\n",
       "   'en_speaker': 'Mr. John Smith',\n",
       "   'ja_speaker': 'ジョン スミスさん',\n",
       "   'en_sentence': 'Being flexible is really important.',\n",
       "   'ja_sentence': '柔軟性があるのはとても重要です。'},\n",
       "  {'no': 21,\n",
       "   'en_speaker': 'Mr. Wayne Willis',\n",
       "   'ja_speaker': 'ウェイン ウィリスさん',\n",
       "   'en_sentence': 'How has the Korean market been lately?',\n",
       "   'ja_sentence': '韓国市場は最近どんな状況ですか？'},\n",
       "  {'no': 22,\n",
       "   'en_speaker': 'Mr. Wayne Willis',\n",
       "   'ja_speaker': 'ウェイン ウィリスさん',\n",
       "   'en_sentence': \"I hear that they aren't looking for long term contracts.\",\n",
       "   'ja_sentence': '長期の契約は望んでいないと聞きましたが。'},\n",
       "  {'no': 23,\n",
       "   'en_speaker': 'Mr. Wayne Willis',\n",
       "   'ja_speaker': 'ウェイン ウィリスさん',\n",
       "   'en_sentence': 'Is that true?',\n",
       "   'ja_sentence': 'そうなんでしょうか？'},\n",
       "  {'no': 24,\n",
       "   'en_speaker': 'Mr. John Smith',\n",
       "   'ja_speaker': 'ジョン スミスさん',\n",
       "   'en_sentence': 'Yes it is.',\n",
       "   'ja_sentence': '本当みたいです。'},\n",
       "  {'no': 25,\n",
       "   'en_speaker': 'Mr. John Smith',\n",
       "   'ja_speaker': 'ジョン スミスさん',\n",
       "   'en_sentence': 'They are mainly looking for spot contract.',\n",
       "   'ja_sentence': '現物契約中心のようです。'},\n",
       "  {'no': 26,\n",
       "   'en_speaker': 'Mr. Wayne Willis',\n",
       "   'ja_speaker': 'ウェイン ウィリスさん',\n",
       "   'en_sentence': 'Why is that?',\n",
       "   'ja_sentence': 'どうしてなんでしょう？'},\n",
       "  {'no': 27,\n",
       "   'en_speaker': 'Mr. John Smith',\n",
       "   'ja_speaker': 'ジョン スミスさん',\n",
       "   'en_sentence': \"Well they don't want to overcommit to one supplier.\",\n",
       "   'ja_sentence': 'サプライヤー一社に傾倒したくないんでしょうね。'},\n",
       "  {'no': 28,\n",
       "   'en_speaker': 'Mr. John Smith',\n",
       "   'ja_speaker': 'ジョン スミスさん',\n",
       "   'en_sentence': 'So they prefer to source from various suppliers.',\n",
       "   'ja_sentence': 'なので、いろいろなところから調達したいんですよ。'},\n",
       "  {'no': 29,\n",
       "   'en_speaker': 'Mr. Wayne Willis',\n",
       "   'ja_speaker': 'ウェイン ウィリスさん',\n",
       "   'en_sentence': 'Is that to also keep the price down?',\n",
       "   'ja_sentence': '価格を抑える意味もあるんでしょうか？'},\n",
       "  {'no': 30,\n",
       "   'en_speaker': 'Mr. John Smith',\n",
       "   'ja_speaker': 'ジョン スミスさん',\n",
       "   'en_sentence': 'They can compare prices and shop around for the cheapest price.',\n",
       "   'ja_sentence': '価格を比較して、一番安いところから購入するのです。'},\n",
       "  {'no': 31,\n",
       "   'en_speaker': 'Mr. Wayne Willis',\n",
       "   'ja_speaker': 'ウェイン ウィリスさん',\n",
       "   'en_sentence': 'Sounds like a lot of work.',\n",
       "   'ja_sentence': 'よっぽど、大変そうですがね。'},\n",
       "  {'no': 32,\n",
       "   'en_speaker': 'Mr. Wayne Willis',\n",
       "   'ja_speaker': 'ウェイン ウィリスさん',\n",
       "   'en_sentence': 'We could offer them a 10-year contract and they can sit back and relax.',\n",
       "   'ja_sentence': '10年契約をオファーすれば、向こうはのんびりリラックスできるのに。'},\n",
       "  {'no': 33,\n",
       "   'en_speaker': 'Mr. John Smith',\n",
       "   'ja_speaker': 'ジョン スミスさん',\n",
       "   'en_sentence': 'Yeah, that would make life easier.',\n",
       "   'ja_sentence': 'その方が楽でしょうに。'},\n",
       "  {'no': 34,\n",
       "   'en_speaker': 'Mr. John Smith',\n",
       "   'ja_speaker': 'ジョン スミスさん',\n",
       "   'en_sentence': 'We should keep an eye on that market.',\n",
       "   'ja_sentence': '韓国市場からは目が離せないですね。'},\n",
       "  {'no': 35,\n",
       "   'en_speaker': 'Mr. Wayne Willis',\n",
       "   'ja_speaker': 'ウェイン ウィリスさん',\n",
       "   'en_sentence': 'Yeah, there is a lot of changes happening lately.',\n",
       "   'ja_sentence': 'そう、最近、いろいろ変化が起きていますからね。'},\n",
       "  {'no': 36,\n",
       "   'en_speaker': 'Mr. John Smith',\n",
       "   'ja_speaker': 'ジョン スミスさん',\n",
       "   'en_sentence': 'We should catch up again in a couple months?',\n",
       "   'ja_sentence': '２ヶ月後くらいにまた、情報交換しましょう。'},\n",
       "  {'no': 37,\n",
       "   'en_speaker': 'Mr. Wayne Willis',\n",
       "   'ja_speaker': 'ウェイン ウィリスさん',\n",
       "   'en_sentence': 'That would be good.',\n",
       "   'ja_sentence': 'いいですね。'},\n",
       "  {'no': 38,\n",
       "   'en_speaker': 'Mr. John Smith',\n",
       "   'ja_speaker': 'ジョン スミスさん',\n",
       "   'en_sentence': 'Great.',\n",
       "   'ja_sentence': '良かった。'},\n",
       "  {'no': 39,\n",
       "   'en_speaker': 'Mr. John Smith',\n",
       "   'ja_speaker': 'ジョン スミスさん',\n",
       "   'en_sentence': 'Thank you for your time today.',\n",
       "   'ja_sentence': '今日はお時間をありがとうございました。'},\n",
       "  {'no': 40,\n",
       "   'en_speaker': 'Mr. Wayne Willis',\n",
       "   'ja_speaker': 'ウェイン ウィリスさん',\n",
       "   'en_sentence': 'Thank you as well.',\n",
       "   'ja_sentence': 'こちらこそ。'}]}"
      ]
     },
     "execution_count": 4,
     "metadata": {},
     "output_type": "execute_result"
    }
   ],
   "source": [
    "data[0]"
   ]
  },
  {
   "cell_type": "code",
   "execution_count": 5,
   "id": "ac905ad3-e445-4bba-8b8a-472c76c354c2",
   "metadata": {},
   "outputs": [],
   "source": [
    "english=[]\n",
    "japanese=[]"
   ]
  },
  {
   "cell_type": "code",
   "execution_count": 6,
   "id": "cd21f0cb-be3c-47c9-9eb0-460b5adef114",
   "metadata": {},
   "outputs": [],
   "source": [
    "for dat in data:\n",
    "    for j in dat['conversation']:\n",
    "        english.append(j['en_sentence'])\n",
    "        japanese.append(j['ja_sentence'])"
   ]
  },
  {
   "cell_type": "code",
   "execution_count": 7,
   "id": "b50013e7-0cf1-462c-abc6-f16eccc2235c",
   "metadata": {},
   "outputs": [
    {
     "data": {
      "text/plain": [
       "2120"
      ]
     },
     "execution_count": 7,
     "metadata": {},
     "output_type": "execute_result"
    }
   ],
   "source": [
    "len(english)"
   ]
  },
  {
   "cell_type": "code",
   "execution_count": 8,
   "id": "7a1e8612-ef7a-4852-8300-1f479e35c64e",
   "metadata": {},
   "outputs": [
    {
     "data": {
      "text/plain": [
       "2120"
      ]
     },
     "execution_count": 8,
     "metadata": {},
     "output_type": "execute_result"
    }
   ],
   "source": [
    "len(japanese)"
   ]
  },
  {
   "cell_type": "code",
   "execution_count": 9,
   "id": "1d537196-2d07-48bd-bd2c-9a65e3a049cb",
   "metadata": {},
   "outputs": [],
   "source": [
    "mx_eng=0\n",
    "mx_jp=0\n",
    "for i in range(len(english)):\n",
    "    mx_eng=max(mx_eng,len(english[i]))\n",
    "for i in range(len(japanese)):\n",
    "    mx_jp=max(mx_jp,len(japanese[i]))    "
   ]
  },
  {
   "cell_type": "markdown",
   "id": "3c09703c-0545-4f5a-b1ce-1e0a77f4b9ae",
   "metadata": {},
   "source": [
    "Max of english and Max of Japanese tokens "
   ]
  },
  {
   "cell_type": "code",
   "execution_count": 10,
   "id": "61934533-df74-495b-9037-49536ca19c7c",
   "metadata": {},
   "outputs": [
    {
     "name": "stdout",
     "output_type": "stream",
     "text": [
      "207 95\n"
     ]
    }
   ],
   "source": [
    "print(mx_eng,mx_jp)"
   ]
  },
  {
   "cell_type": "code",
   "execution_count": null,
   "id": "e68f973e-fce2-4789-aff5-2fef218d8ca7",
   "metadata": {},
   "outputs": [],
   "source": []
  },
  {
   "cell_type": "code",
   "execution_count": null,
   "id": "830a7974-c598-46d1-a6e8-dfee56898151",
   "metadata": {},
   "outputs": [],
   "source": []
  },
  {
   "cell_type": "code",
   "execution_count": 11,
   "id": "8c8a44cd-a876-48e0-aa22-b97607712c99",
   "metadata": {},
   "outputs": [],
   "source": [
    "from transformers import AutoModel, AutoTokenizer\n",
    "from transformers import BertTokenizer"
   ]
  },
  {
   "cell_type": "code",
   "execution_count": 12,
   "id": "95a9e297-01b3-422c-aed3-d55a3fd89c75",
   "metadata": {},
   "outputs": [
    {
     "name": "stderr",
     "output_type": "stream",
     "text": [
      "C:\\Users\\maddo\\anaconda3\\Lib\\site-packages\\h5py\\__init__.py:36: UserWarning: h5py is running against HDF5 1.14.6 when it was built against 1.14.5, this may cause problems\n",
      "  _warn((\"h5py is running against HDF5 {0} when it was built against {1}, \"\n"
     ]
    }
   ],
   "source": [
    "bertjapanese = AutoModel.from_pretrained(\"cl-tohoku/bert-base-japanese\")\n",
    "tokenizer = AutoTokenizer.from_pretrained(\"cl-tohoku/bert-base-japanese\")\n"
   ]
  },
  {
   "cell_type": "code",
   "execution_count": 13,
   "id": "82cfecef-5686-4af6-bd60-7580856cfc28",
   "metadata": {},
   "outputs": [],
   "source": [
    "special_tokens = {\n",
    "    \"bos_token\": \"<sos>\",\n",
    "    \"eos_token\": \"<eos>\",\n",
    "    \"pad_token\": \"<pad>\"\n",
    "}"
   ]
  },
  {
   "cell_type": "code",
   "execution_count": 14,
   "id": "4bbb6e46-f170-4be7-8bfe-be241bd0e8fc",
   "metadata": {},
   "outputs": [
    {
     "data": {
      "text/plain": [
       "3"
      ]
     },
     "execution_count": 14,
     "metadata": {},
     "output_type": "execute_result"
    }
   ],
   "source": [
    "tokenizer.add_special_tokens(special_tokens)"
   ]
  },
  {
   "cell_type": "code",
   "execution_count": 15,
   "id": "f012e8fd-06b9-45f7-a232-cab40e3faec2",
   "metadata": {},
   "outputs": [],
   "source": [
    "jptokids=[]\n",
    "jptorch=[]\n",
    "for i in range(len(japanese)):\n",
    "    ax = tokenizer.tokenize(japanese[i])\n",
    "    ax = [tokenizer.bos_token] + ax + [tokenizer.eos_token]  \n",
    "    jptokids.append(tokenizer.convert_tokens_to_ids(ax))\n",
    "    jptorch.append(torch.tensor(jptokids[-1]))"
   ]
  },
  {
   "cell_type": "code",
   "execution_count": null,
   "id": "f6bcdb36-b3c6-4dfb-b9d7-bb612b8594e4",
   "metadata": {},
   "outputs": [],
   "source": []
  },
  {
   "cell_type": "markdown",
   "id": "3fb22e53-41df-4ef0-b7d7-dbb1f59c0c99",
   "metadata": {},
   "source": [
    "This is using tokenizer.encode to automatically add eos and sos \n",
    "\n",
    "for i in range(len(japanese)):\n",
    "    jptokids.append(tokenizer.encode(japanese[i], add_special_tokens=True))  \n",
    "    print(jptokids[-1])"
   ]
  },
  {
   "cell_type": "code",
   "execution_count": 16,
   "id": "fba07688-66ed-4cbe-8e6e-406442b50b5f",
   "metadata": {},
   "outputs": [
    {
     "data": {
      "text/plain": [
       "32002"
      ]
     },
     "execution_count": 16,
     "metadata": {},
     "output_type": "execute_result"
    }
   ],
   "source": [
    "tokenizer.pad_token_id"
   ]
  },
  {
   "cell_type": "code",
   "execution_count": 17,
   "id": "32c633c9-41dd-4421-b052-c10bc4288998",
   "metadata": {},
   "outputs": [],
   "source": [
    "maxlen_jp=0\n",
    "vocabsize_jp=0\n",
    "for i in range(len(jptokids)):\n",
    "    maxlen_jp=max(maxlen_jp,len(jptokids[i]))\n",
    "    vocabsize_jp = max(vocabsize_jp,max(jptokids[i]))\n",
    "    "
   ]
  },
  {
   "cell_type": "code",
   "execution_count": 18,
   "id": "f412545b-77cf-490b-974e-270ca3dcc762",
   "metadata": {},
   "outputs": [
    {
     "data": {
      "text/plain": [
       "(59, 32001)"
      ]
     },
     "execution_count": 18,
     "metadata": {},
     "output_type": "execute_result"
    }
   ],
   "source": [
    "maxlen_jp,vocabsize_jp"
   ]
  },
  {
   "cell_type": "code",
   "execution_count": 19,
   "id": "3141c88b-b634-4ff8-9658-e725d09479e6",
   "metadata": {},
   "outputs": [],
   "source": [
    "engtokenizer=BertTokenizer.from_pretrained('bert-base-uncased')"
   ]
  },
  {
   "cell_type": "code",
   "execution_count": 20,
   "id": "a5d8a15b-1ffb-44f6-bf9e-9b828c0596e6",
   "metadata": {},
   "outputs": [
    {
     "data": {
      "text/plain": [
       "3"
      ]
     },
     "execution_count": 20,
     "metadata": {},
     "output_type": "execute_result"
    }
   ],
   "source": [
    "engtokenizer.add_special_tokens(special_tokens)"
   ]
  },
  {
   "cell_type": "code",
   "execution_count": 21,
   "id": "1562fb92-99e4-452f-888e-3bcd96083864",
   "metadata": {},
   "outputs": [],
   "source": [
    "engtokids=[]\n",
    "engtorch=[]\n",
    "for i in range(len(english)):\n",
    "    ax=engtokenizer.tokenize(english[i])\n",
    "    ax=[engtokenizer.bos_token]+ax+[engtokenizer.eos_token]\n",
    "    engtokids.append(engtokenizer.convert_tokens_to_ids(ax))\n",
    "    engtorch.append(torch.tensor(engtokids[-1]))"
   ]
  },
  {
   "cell_type": "code",
   "execution_count": 22,
   "id": "72bee0a8-d868-4c26-b3c9-e19fcafa76ce",
   "metadata": {},
   "outputs": [],
   "source": [
    "maxlen_eng=0\n",
    "vocabsize_eng=0\n",
    "for i in range(len(engtokids)):\n",
    "    maxlen_eng=max(maxlen_eng,len(engtokids[i]))\n",
    "    vocabsize_eng = max(vocabsize_eng,max(engtokids[i]))\n",
    "    "
   ]
  },
  {
   "cell_type": "code",
   "execution_count": 23,
   "id": "993addb7-2629-4bd6-a678-bc8b2009308f",
   "metadata": {},
   "outputs": [
    {
     "data": {
      "text/plain": [
       "(45, 30523, 59, 32001)"
      ]
     },
     "execution_count": 23,
     "metadata": {},
     "output_type": "execute_result"
    }
   ],
   "source": [
    "maxlen_eng,vocabsize_eng,maxlen_jp,vocabsize_jp"
   ]
  },
  {
   "cell_type": "code",
   "execution_count": 24,
   "id": "d73fda59-747c-4592-8743-aa05928fad9c",
   "metadata": {},
   "outputs": [
    {
     "data": {
      "text/plain": [
       "'<sos> ウェイン 、 調子 は どう です ? <eos>'"
      ]
     },
     "execution_count": 24,
     "metadata": {},
     "output_type": "execute_result"
    }
   ],
   "source": [
    "tokenizer.decode(jptokids[0], skip_special_tokens=False)"
   ]
  },
  {
   "cell_type": "code",
   "execution_count": 25,
   "id": "18b4eb58-0c15-4998-bf7a-d8030eb3a34f",
   "metadata": {},
   "outputs": [
    {
     "data": {
      "text/plain": [
       "'how is it going, wayne?'"
      ]
     },
     "execution_count": 25,
     "metadata": {},
     "output_type": "execute_result"
    }
   ],
   "source": [
    "engtokenizer.decode(engtokids[0], skip_special_tokens=True)"
   ]
  },
  {
   "cell_type": "code",
   "execution_count": 26,
   "id": "d462bd63-bdb3-4cd9-b6a1-ad0ee9b1fd5e",
   "metadata": {},
   "outputs": [],
   "source": [
    "engpadded= pad_sequence(engtorch, batch_first=True, padding_value=engtokenizer.pad_token_id)"
   ]
  },
  {
   "cell_type": "code",
   "execution_count": 27,
   "id": "2d8d9227-d8c6-4756-95ee-712e7f0b56f2",
   "metadata": {},
   "outputs": [],
   "source": [
    "jppadded= pad_sequence(jptorch,batch_first=True ,padding_value=tokenizer.pad_token_id)"
   ]
  },
  {
   "cell_type": "code",
   "execution_count": 31,
   "id": "1de242f9-8acd-4daa-83f8-aadd9ba848df",
   "metadata": {},
   "outputs": [],
   "source": [
    "class TranslationDataset(Dataset):\n",
    "    def __init__(self, en_tensors, jp_tensors):\n",
    "        self.en_tensors = en_tensors\n",
    "        self.jp_tensors = jp_tensors\n",
    "\n",
    "    def __len__(self):\n",
    "        return len(self.en_tensors)\n",
    "\n",
    "    def __getitem__(self, idx):\n",
    "        # Return English and Japanese tensors for each sentence pair\n",
    "        return self.en_tensors[idx], self.jp_tensors[idx]"
   ]
  },
  {
   "cell_type": "code",
   "execution_count": 32,
   "id": "6ed2b937-b89c-4629-bd11-9e5d2b90bd6c",
   "metadata": {},
   "outputs": [],
   "source": [
    "def get_dataloader(en_tensors, jp_tensors, batch_size=32):\n",
    "    dataset = TranslationDataset(en_tensors, jp_tensors)\n",
    "    return DataLoader(dataset, batch_size=batch_size, shuffle=True)"
   ]
  },
  {
   "cell_type": "code",
   "execution_count": 33,
   "id": "b641f289-cbec-4d4c-a6d3-af0bcfdc9c5f",
   "metadata": {},
   "outputs": [],
   "source": [
    "train_loader = get_dataloader(engpadded, jppadded, batch_size=32)"
   ]
  },
  {
   "cell_type": "code",
   "execution_count": 46,
   "id": "a0ca2579-16ec-495a-8c03-8490debb0668",
   "metadata": {},
   "outputs": [
    {
     "name": "stdout",
     "output_type": "stream",
     "text": [
      "tensor([[30522,  2011,  1996,  ..., 30524, 30524, 30524],\n",
      "        [30522,  2065,  2057,  ..., 30524, 30524, 30524],\n",
      "        [30522,  2748,  1010,  ..., 30524, 30524, 30524],\n",
      "        ...,\n",
      "        [30522,  1045,  2064,  ..., 30524, 30524, 30524],\n",
      "        [30522,  2031,  2017,  ..., 30524, 30524, 30524],\n",
      "        [30522,  2256,  3579,  ..., 30524, 30524, 30524]])\n",
      "tensor([[32000,    22,     6,  ..., 32002, 32002, 32002],\n",
      "        [32000,  6045,  5826,  ..., 32002, 32002, 32002],\n",
      "        [32000,    22, 28474,  ..., 32002, 32002, 32002],\n",
      "        ...,\n",
      "        [32000,    83,  6867,  ..., 32002, 32002, 32002],\n",
      "        [32000,  8277,    35,  ..., 32002, 32002, 32002],\n",
      "        [32000, 25559, 28609,  ..., 32002, 32002, 32002]])\n"
     ]
    }
   ],
   "source": [
    "for i in next(iter(train_loader)):\n",
    "    print(i)"
   ]
  },
  {
   "cell_type": "code",
   "execution_count": 61,
   "id": "120b1adc-2626-455f-8a91-63ccf7ff4b00",
   "metadata": {},
   "outputs": [
    {
     "name": "stdout",
     "output_type": "stream",
     "text": [
      "0 torch.Size([32, 45])\n",
      "1 torch.Size([32, 45])\n",
      "2 torch.Size([32, 45])\n",
      "3 torch.Size([32, 45])\n",
      "4 torch.Size([32, 45])\n",
      "5 torch.Size([32, 45])\n",
      "6 torch.Size([32, 45])\n",
      "7 torch.Size([32, 45])\n",
      "8 torch.Size([32, 45])\n",
      "9 torch.Size([32, 45])\n",
      "10 torch.Size([32, 45])\n",
      "11 torch.Size([32, 45])\n",
      "12 torch.Size([32, 45])\n",
      "13 torch.Size([32, 45])\n",
      "14 torch.Size([32, 45])\n",
      "15 torch.Size([32, 45])\n",
      "16 torch.Size([32, 45])\n",
      "17 torch.Size([32, 45])\n",
      "18 torch.Size([32, 45])\n",
      "19 torch.Size([32, 45])\n",
      "20 torch.Size([32, 45])\n",
      "21 torch.Size([32, 45])\n",
      "22 torch.Size([32, 45])\n",
      "23 torch.Size([32, 45])\n",
      "24 torch.Size([32, 45])\n",
      "25 torch.Size([32, 45])\n",
      "26 torch.Size([32, 45])\n",
      "27 torch.Size([32, 45])\n",
      "28 torch.Size([32, 45])\n",
      "29 torch.Size([32, 45])\n",
      "30 torch.Size([32, 45])\n",
      "31 torch.Size([32, 45])\n",
      "32 torch.Size([32, 45])\n",
      "33 torch.Size([32, 45])\n",
      "34 torch.Size([32, 45])\n",
      "35 torch.Size([32, 45])\n",
      "36 torch.Size([32, 45])\n",
      "37 torch.Size([32, 45])\n",
      "38 torch.Size([32, 45])\n",
      "39 torch.Size([32, 45])\n",
      "40 torch.Size([32, 45])\n",
      "41 torch.Size([32, 45])\n",
      "42 torch.Size([32, 45])\n",
      "43 torch.Size([32, 45])\n",
      "44 torch.Size([32, 45])\n",
      "45 torch.Size([32, 45])\n",
      "46 torch.Size([32, 45])\n",
      "47 torch.Size([32, 45])\n",
      "48 torch.Size([32, 45])\n",
      "49 torch.Size([32, 45])\n",
      "50 torch.Size([32, 45])\n",
      "51 torch.Size([32, 45])\n",
      "52 torch.Size([32, 45])\n",
      "53 torch.Size([32, 45])\n",
      "54 torch.Size([32, 45])\n",
      "55 torch.Size([32, 45])\n",
      "56 torch.Size([32, 45])\n",
      "57 torch.Size([32, 45])\n",
      "58 torch.Size([32, 45])\n",
      "59 torch.Size([32, 45])\n",
      "60 torch.Size([32, 45])\n",
      "61 torch.Size([32, 45])\n",
      "62 torch.Size([32, 45])\n",
      "63 torch.Size([32, 45])\n",
      "64 torch.Size([32, 45])\n",
      "65 torch.Size([32, 45])\n",
      "66 torch.Size([8, 45])\n"
     ]
    }
   ],
   "source": [
    "for i,j in enumerate(train_loader):\n",
    "    print(i,j[0].shape)"
   ]
  },
  {
   "cell_type": "code",
   "execution_count": null,
   "id": "4e06aaf3-0d42-4c0b-aa48-e4c4d719616e",
   "metadata": {},
   "outputs": [],
   "source": []
  }
 ],
 "metadata": {
  "kernelspec": {
   "display_name": "Python 3 (ipykernel)",
   "language": "python",
   "name": "python3"
  },
  "language_info": {
   "codemirror_mode": {
    "name": "ipython",
    "version": 3
   },
   "file_extension": ".py",
   "mimetype": "text/x-python",
   "name": "python",
   "nbconvert_exporter": "python",
   "pygments_lexer": "ipython3",
   "version": "3.11.7"
  }
 },
 "nbformat": 4,
 "nbformat_minor": 5
}
